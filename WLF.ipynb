{
 "cells": [
  {
   "cell_type": "code",
   "execution_count": 1,
   "metadata": {
    "collapsed": true
   },
   "outputs": [],
   "source": [
    "# house keeping and import libiraries\n",
    "%matplotlib inline\n",
    "import pandas as pd\n",
    "import numpy as np\n",
    "import matplotlib.pyplot as plt \n",
    "import seaborn as sns\n",
    "from IPython.display import display\n",
    "from scipy.stats import skew\n",
    "from itertools import combinations\n",
    "\n",
    "import sklearn.feature_selection\n",
    "from sklearn.ensemble import GradientBoostingClassifier, RandomForestClassifier\n",
    "from sklearn.model_selection import train_test_split\n",
    "from sklearn.metrics import roc_auc_score\n",
    "from sklearn.preprocessing import Imputer, PolynomialFeatures\n",
    "from sklearn.linear_model import LogisticRegression\n",
    "from sklearn.metrics import confusion_matrix"
   ]
  },
  {
   "cell_type": "code",
   "execution_count": 2,
   "metadata": {
    "collapsed": true
   },
   "outputs": [],
   "source": [
    "df = pd.read_csv(r'C:\\Users\\Eric Yang\\Desktop\\sample.csv') # replace the path to load df\n",
    "df.drop(['Unnamed: 0', 'ACCOUNT_NUMBER'], axis = 1, inplace = True)"
   ]
  },
  {
   "cell_type": "code",
   "execution_count": 3,
   "metadata": {
    "collapsed": true
   },
   "outputs": [],
   "source": [
    "df.prim_CustomerOwnHome.replace({'Yes': 1, \n",
    "                                'No': 0,\n",
    "                                 np.nan: 0}, inplace = True)"
   ]
  },
  {
   "cell_type": "code",
   "execution_count": 4,
   "metadata": {
    "collapsed": true
   },
   "outputs": [],
   "source": [
    "numeric_features = list(df.dtypes[df.dtypes != \"object\"].index)\n",
    "categorical_features = list(df.dtypes[df.dtypes == 'object'].index)"
   ]
  },
  {
   "cell_type": "code",
   "execution_count": 4,
   "metadata": {
    "collapsed": false
   },
   "outputs": [
    {
     "data": {
      "text/plain": [
       "Index(['CashPrice', 'AmountFinanced', 'TradeAllowance', 'TradePayoff',\n",
       "       'CashDown', 'Term', 'PaymentAmount', 'VehicleBook', 'VehicleMileage',\n",
       "       'VehicleClass', 'BlackBookValue', 'prim_YearsJob', 'prim_Income1',\n",
       "       'prim_ResidenceStability', 'prim_GoodItems', 'prim_HighGood',\n",
       "       'prim_DerogItems', 'prim_HighDerog', 'prim_Repos',\n",
       "       'prim_OtherMonthlyDebt', 'prim_PreviousBankruptcyCount',\n",
       "       'prim_YearsOnBureau', 'prim_PaidAutoLoan', 'CustFactor',\n",
       "       'CheckToDealer'],\n",
       "      dtype='object')"
      ]
     },
     "execution_count": 4,
     "metadata": {},
     "output_type": "execute_result"
    }
   ],
   "source": [
    "skewed_features.drop('FLAG')"
   ]
  },
  {
   "cell_type": "code",
   "execution_count": 5,
   "metadata": {
    "collapsed": false
   },
   "outputs": [],
   "source": [
    "def benchmark(dataframe):\n",
    "    global categorical_features\n",
    "    for variable in categorical_features:\n",
    "        dataframe[variable].fillna('Missing', inplace = True)\n",
    "        dummies = pd.get_dummies(dataframe[variable], prefix = variable)\n",
    "        dataframe = pd.concat([dataframe, dummies], axis = 1)\n",
    "        dataframe.drop([variable], axis = 1, inplace = True)\n",
    "    dataframe.dropna(axis = 0, inplace = True) \n",
    "    X_benchmark = dataframe.drop('FLAG', axis = 1)\n",
    "    y_benchmark = dataframe.FLAG\n",
    "    X_train, X_test, y_train, y_test = train_test_split(X_benchmark, y_benchmark, test_size = 0.3, random_state = 42)\n",
    "    bm_model = RandomForestClassifier(100)\n",
    "    bm_model.fit(X_train, y_train)\n",
    "    y_bm_predict = bm_model.predict(X_test)\n",
    "    bm_score = roc_auc_score(y_test, y_bm_predict)\n",
    "    print('the bench mark auc is: %s' %(bm_score))"
   ]
  },
  {
   "cell_type": "code",
   "execution_count": 22,
   "metadata": {
    "collapsed": false
   },
   "outputs": [
    {
     "name": "stdout",
     "output_type": "stream",
     "text": [
      "the bench mark aoc is: 0.511109539172\n"
     ]
    }
   ],
   "source": [
    "benchmark(df)"
   ]
  },
  {
   "cell_type": "code",
   "execution_count": 5,
   "metadata": {
    "collapsed": true
   },
   "outputs": [],
   "source": [
    "df = pd.read_csv(r'C:\\Users\\Eric Yang\\Desktop\\sample.csv') #reload data frame\n",
    "df.drop(['Unnamed: 0', 'ACCOUNT_NUMBER'], axis = 1, inplace = True)\n",
    "numeric_features = list(df.dtypes[df.dtypes != \"object\"].index)\n",
    "categorical_features = list(df.dtypes[df.dtypes == 'object'].index)"
   ]
  },
  {
   "cell_type": "code",
   "execution_count": 5,
   "metadata": {
    "collapsed": true
   },
   "outputs": [],
   "source": [
    "def preprocess(dataframe):\n",
    "    global numeric_features, df, categorical_features\n",
    "    dataframe = dataframe[dataframe['TradePayoff'] < 50000]\n",
    "    dataframe = dataframe[dataframe['prim_YearsJob'] < 80]\n",
    "    dataframe = dataframe[dataframe['Term'] < 120]\n",
    "    dataframe.VehicleClass.fillna(dataframe.VehicleClass.median(), axis = 0, inplace = True)\n",
    "    dataframe.ExpectedLoss.fillna(dataframe.ExpectedLoss.median(), axis = 0, inplace = True)\n",
    "    dataframe.prim_CustomerOwnHome.fillna('No', axis = 0, inplace = True)\n",
    "    for variable in categorical_features:\n",
    "        dataframe[variable].fillna('Missing', inplace = True)\n",
    "        dummies = pd.get_dummies(dataframe[variable], prefix = variable)\n",
    "        dataframe = pd.concat([dataframe, dummies], axis = 1)\n",
    "        dataframe.drop([variable], axis = 1, inplace = True) \n",
    "    #dataframe = dataframe.fillna(dataframe.mean())\n",
    "    df = dataframe"
   ]
  },
  {
   "cell_type": "code",
   "execution_count": 6,
   "metadata": {
    "collapsed": false
   },
   "outputs": [],
   "source": [
    "preprocess(df)"
   ]
  },
  {
   "cell_type": "code",
   "execution_count": 13,
   "metadata": {
    "collapsed": false
   },
   "outputs": [
    {
     "data": {
      "text/plain": [
       "False"
      ]
     },
     "execution_count": 13,
     "metadata": {},
     "output_type": "execute_result"
    }
   ],
   "source": [
    "df.isnull().values.any()"
   ]
  },
  {
   "cell_type": "markdown",
   "metadata": {},
   "source": [
    "# Feature Engineering \n",
    "## get the interactions of all features"
   ]
  },
  {
   "cell_type": "code",
   "execution_count": 7,
   "metadata": {
    "collapsed": true
   },
   "outputs": [],
   "source": [
    "def interactions(dataframe):\n",
    "    combos = list(combinations(list(dataframe.columns), 2))\n",
    "    column_names = list(dataframe.columns) + ['_'.join(x) for x in combos]\n",
    "    polynomial = PolynomialFeatures(interaction_only = True, include_bias = False)\n",
    "    dataframe = polynomial.fit_transform(dataframe)\n",
    "    dataframe, dataframe.columns = pd.DataFrame(dataframe), column_names\n",
    "    noint_indicies = [i for i, x in enumerate(list((dataframe == 0).all())) if x]\n",
    "    dataframe = dataframe.drop(dataframe.columns[noint_indicies], axis = 1)\n",
    "    return dataframe "
   ]
  },
  {
   "cell_type": "code",
   "execution_count": 8,
   "metadata": {
    "collapsed": false
   },
   "outputs": [],
   "source": [
    "df = interactions(df)"
   ]
  },
  {
   "cell_type": "code",
   "execution_count": 9,
   "metadata": {
    "collapsed": true
   },
   "outputs": [],
   "source": [
    "def inpute_skew(dataframe):\n",
    "    skewed_features = dataframe[numeric_features].apply(lambda x: skew(x)) #compute skewness\n",
    "    skewed_features = numeric_features[skewed_features > 1.5]\n",
    "    skewed_features = skewed_features.index\n",
    "    skewed_features.drop('FLAG')\n",
    "    dataframe[skewed_features] = np.log1p(dataframe[skewed_features])"
   ]
  },
  {
   "cell_type": "code",
   "execution_count": 12,
   "metadata": {
    "collapsed": false
   },
   "outputs": [
    {
     "name": "stderr",
     "output_type": "stream",
     "text": [
      "C:\\Users\\Eric Yang\\Anaconda2\\envs\\snakes\\lib\\site-packages\\ipykernel\\__main__.py:6: RuntimeWarning: divide by zero encountered in log1p\n",
      "C:\\Users\\Eric Yang\\Anaconda2\\envs\\snakes\\lib\\site-packages\\ipykernel\\__main__.py:6: RuntimeWarning: invalid value encountered in log1p\n"
     ]
    }
   ],
   "source": [
    "inpute_skew(df)"
   ]
  },
  {
   "cell_type": "code",
   "execution_count": 10,
   "metadata": {
    "collapsed": true
   },
   "outputs": [],
   "source": [
    "df = df.fillna(df.mean(), axis = 0)"
   ]
  },
  {
   "cell_type": "code",
   "execution_count": 11,
   "metadata": {
    "collapsed": false
   },
   "outputs": [],
   "source": [
    "X = df.drop('FLAG', axis = 1)\n",
    "y = df.FLAG\n",
    "X_train, X_test, y_train, y_test = train_test_split(X, y, test_size = 0.2, random_state = 42)"
   ]
  },
  {
   "cell_type": "code",
   "execution_count": 22,
   "metadata": {
    "collapsed": false
   },
   "outputs": [
    {
     "name": "stderr",
     "output_type": "stream",
     "text": [
      "C:\\Users\\Eric Yang\\Anaconda2\\envs\\snakes\\lib\\site-packages\\sklearn\\feature_selection\\univariate_selection.py:113: UserWarning: Features [ 430  444  458 2144 2893 2895 2900 2912 2922 2992 3013 3041 3045 3048 3055\n",
      " 3093 3101 3109 3122 3141 3155 3162 3174 3187 3191 3215 3217 3219 3238 3296\n",
      " 3354 3362 3383] are constant.\n",
      "  UserWarning)\n",
      "C:\\Users\\Eric Yang\\Anaconda2\\envs\\snakes\\lib\\site-packages\\sklearn\\feature_selection\\univariate_selection.py:114: RuntimeWarning: invalid value encountered in true_divide\n",
      "  f = msb / msw\n"
     ]
    }
   ],
   "source": [
    "select = sklearn.feature_selection.SelectKBest(k = 340)\n",
    "selected_features = select.fit(X_train, y_train)\n",
    "selected_indices =  selected_features.get_support(indices = True)\n",
    "selected_columns = [df.columns[i] for i in selected_indices]"
   ]
  },
  {
   "cell_type": "code",
   "execution_count": 23,
   "metadata": {
    "collapsed": false
   },
   "outputs": [],
   "source": [
    "X_train_final, X_test_final = X_train[selected_columns], X_test[selected_columns]"
   ]
  },
  {
   "cell_type": "code",
   "execution_count": 14,
   "metadata": {
    "collapsed": true
   },
   "outputs": [],
   "source": [
    "def model_building(X_train, y_train, X_test, y_test):\n",
    "    model = GradientBoostingClassifier()\n",
    "    model.fit(X_train, y_train)\n",
    "    y_pred = model.predict(X_test)\n",
    "    roc = roc_auc_score(y_test, y_pred)\n",
    "    print('the ROC AUC score for our boosting model is: %s' %(roc))"
   ]
  },
  {
   "cell_type": "code",
   "execution_count": 24,
   "metadata": {
    "collapsed": false
   },
   "outputs": [
    {
     "name": "stdout",
     "output_type": "stream",
     "text": [
      "the ROC AUC score for our boosting model is: 0.939519852262\n"
     ]
    }
   ],
   "source": [
    "model_building(X_train_final, y_train, X_test_final, y_test)"
   ]
  }
 ],
 "metadata": {
  "kernelspec": {
   "display_name": "Python [conda env:snakes]",
   "language": "python",
   "name": "conda-env-snakes-py"
  },
  "language_info": {
   "codemirror_mode": {
    "name": "ipython",
    "version": 3
   },
   "file_extension": ".py",
   "mimetype": "text/x-python",
   "name": "python",
   "nbconvert_exporter": "python",
   "pygments_lexer": "ipython3",
   "version": "3.5.2"
  }
 },
 "nbformat": 4,
 "nbformat_minor": 1
}
